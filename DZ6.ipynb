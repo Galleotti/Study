{
 "cells": [
  {
   "cell_type": "markdown",
   "id": "5c2f3b25-b31d-4334-898e-2586c7aee444",
   "metadata": {},
   "source": [
    "Задание 1\n",
    "Печатные газеты использовали свой формат дат для каждого выпуска. Для каждой газеты из списка напишите формат указанной даты для перевода в объект datetime:\n",
    "The Moscow Times - Wednesday, October 2, 2002\n",
    "The Guardian - Friday, 11.10.13\n",
    "Daily News - Thursday, 18 August 1977"
   ]
  },
  {
   "cell_type": "code",
   "execution_count": null,
   "id": "d1ab00e8-0a4e-403d-b333-7a4e0a03e8b0",
   "metadata": {},
   "outputs": [],
   "source": [
    "from datetime import datetime"
   ]
  },
  {
   "cell_type": "code",
   "execution_count": null,
   "id": "a0950886-2c11-496c-afa4-98f603dbc06e",
   "metadata": {},
   "outputs": [],
   "source": [
    "#The Moscow Times\n",
    "datetime = datetime.strptime('Wednesday, October 2, 2002', '%A, %B %d, %Y')\n",
    "datetime"
   ]
  },
  {
   "cell_type": "code",
   "execution_count": null,
   "id": "39819781-2f23-4418-a625-e79414725751",
   "metadata": {},
   "outputs": [],
   "source": [
    "from datetime import datetime"
   ]
  },
  {
   "cell_type": "code",
   "execution_count": null,
   "id": "6561c39e-a655-4d14-926c-9be95f4a0381",
   "metadata": {},
   "outputs": [],
   "source": [
    "#The Guardian\n",
    "datetime1 = datetime.strptime('Friday, 11.10.13', '%A, %d.%m.%y')\n",
    "datetime1"
   ]
  },
  {
   "cell_type": "code",
   "execution_count": null,
   "id": "e4601b20-c611-49a3-8b6e-bbc9598a476f",
   "metadata": {},
   "outputs": [],
   "source": [
    "from datetime import datetime"
   ]
  },
  {
   "cell_type": "code",
   "execution_count": null,
   "id": "344624e5-b9e3-44b7-a331-2c8d76540ce9",
   "metadata": {},
   "outputs": [],
   "source": [
    "#Daily News - Thursday, 18 August 1977\n",
    "datetime2 = datetime.strptime('Thursday, 18 August 1977', '%A, %d %B %Y')\n",
    "datetime2"
   ]
  },
  {
   "cell_type": "markdown",
   "id": "4a23a119-4479-46ad-82bf-4483ba38f3ad",
   "metadata": {},
   "source": [
    "Задание 2\n",
    "Дан поток дат в формате YYYY-MM-DD, в которых встречаются некорректные значения:\n",
    "stream = ['2018-04-02', '2018-02-29', '2018-19-02']\n",
    "\n",
    "Напишите функцию, которая проверяет эти даты на корректность. Т. е. для каждой даты возвращает True (дата корректна) или False (некорректная дата). \n"
   ]
  },
  {
   "cell_type": "code",
   "execution_count": null,
   "id": "417e693d-8d38-4dd7-977d-c39ca91a4039",
   "metadata": {},
   "outputs": [],
   "source": [
    "stream = ['2018-04-02', '2018-02-29', '2018-19-02']\n",
    "\n",
    "from datetime import datetime\n",
    "def check_date(stream):\n",
    "    for date in stream:\n",
    "        try:\n",
    "            date_datetime = datetime.strptime( date, '%Y-%m-%d' )\n",
    "            print(True)\n",
    "        except:\n",
    "                print(False)\n",
    "         \n",
    "check_date(stream)\n",
    "\n",
    "\n",
    "#date_datetime = datetime.strptime('2018-19-02', '%Y-%m-%d')\n",
    "#result = True if date_datetime.month < 12 and date_datetime.day < 31 else False\n",
    "#print(result)"
   ]
  },
  {
   "cell_type": "markdown",
   "id": "9bf7ea5d-dadd-412b-a575-80d1645bfdeb",
   "metadata": {},
   "source": [
    "Задание 3\n",
    "Напишите функцию date_range, которая возвращает список дат за период от start_date до end_date. \n",
    "Даты должны вводиться в формате YYYY-MM-DD. \n",
    "В случае неверного формата или при start_date > end_date должен возвращаться пустой список."
   ]
  },
  {
   "cell_type": "code",
   "execution_count": null,
   "id": "14753016-2753-4318-82b2-fb30ab263369",
   "metadata": {},
   "outputs": [],
   "source": [
    "from datetime import datetime"
   ]
  },
  {
   "cell_type": "code",
   "execution_count": null,
   "id": "560bcbab-8141-42f6-8810-2eafa04dffd4",
   "metadata": {},
   "outputs": [],
   "source": [
    "from datetime import timedelta"
   ]
  },
  {
   "cell_type": "code",
   "execution_count": null,
   "id": "9edd7f49-5f40-45cc-8d17-f1faa6769e8f",
   "metadata": {},
   "outputs": [],
   "source": [
    "start_date = '2018-01-01'\n",
    "end_date = '2018-01-07'\n",
    "start_date_dt = datetime.strptime(start_date, '%Y-%m-%d')\n",
    "end_date_dt = datetime.strptime(end_date, '%Y-%m-%d')\n",
    "\n",
    "current_dt = start_date_dt\n",
    "\n",
    "while current_dt <= end_date_dt:\n",
    "    current_dt += timedelta(days=1)\n",
    "    print(current_dt.strftime('%Y-%m-%d'))\n",
    "\n",
    "def date_range(current_dt, end_date_dt):\n",
    "    if start_date > end_date:\n",
    "        result = []\n",
    "        print(result)"
   ]
  },
  {
   "cell_type": "code",
   "execution_count": null,
   "id": "7a509bae-94ee-4a99-93a2-de7732cf2b7a",
   "metadata": {},
   "outputs": [],
   "source": [
    "Задание 4 (бонусное)\n",
    "Ваш коллега прислал код функции:\n",
    "\n",
    "DEFAULT_USER_COUNT = 3\n",
    "\n",
    "def delete_and_return_last_user(region, default_list=['A100', 'A101', 'A102']):\n",
    "    \"\"\"\n",
    "    Удаляет из списка default_list последнего пользователя \n",
    "    и возвращает ID нового последнего пользователя.\n",
    "    \"\"\"\n",
    "    element_to_delete = default_list[-1]\n",
    "    default_list.remove(element_to_delete)\n",
    "    \n",
    "    return default_list[DEFAULT_USER_COUNT-2]\n",
    "\n",
    "При однократном вызове этой функции все работает корректно:\n",
    "delete_and_return_last_user(1)\n",
    "'A101'\n",
    "\n",
    "Однако, при повторном вызове получается ошибка IndexError: list index out of range.\n",
    "\n",
    "Задание:\n",
    "1. Что значит ошибка list index out of range?\n",
    "2. Почему при первом запуске функция работает корректно, а при втором - нет?\n"
   ]
  },
  {
   "cell_type": "code",
   "execution_count": 2,
   "id": "d1157a19-f435-4e04-823f-af50156ba032",
   "metadata": {},
   "outputs": [
    {
     "data": {
      "text/plain": [
       "'A101'"
      ]
     },
     "execution_count": 2,
     "metadata": {},
     "output_type": "execute_result"
    }
   ],
   "source": [
    "DEFAULT_USER_COUNT = 3\n",
    "\n",
    "def delete_and_return_last_user(region, default_list=['A100', 'A101', 'A102']):\n",
    "    element_to_delete = default_list[-1]\n",
    "    default_list.remove(element_to_delete)\n",
    "\n",
    "    return default_list[DEFAULT_USER_COUNT-2]\n",
    "\n",
    "delete_and_return_last_user(1)"
   ]
  },
  {
   "cell_type": "code",
   "execution_count": null,
   "id": "12a5d59c-d20c-4b9f-b568-a2242939f14f",
   "metadata": {},
   "outputs": [],
   "source": []
  }
 ],
 "metadata": {
  "kernelspec": {
   "display_name": "Python 3 (ipykernel)",
   "language": "python",
   "name": "python3"
  },
  "language_info": {
   "codemirror_mode": {
    "name": "ipython",
    "version": 3
   },
   "file_extension": ".py",
   "mimetype": "text/x-python",
   "name": "python",
   "nbconvert_exporter": "python",
   "pygments_lexer": "ipython3",
   "version": "3.11.7"
  }
 },
 "nbformat": 4,
 "nbformat_minor": 5
}
