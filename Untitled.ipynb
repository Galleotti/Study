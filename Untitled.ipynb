{
 "cells": [
  {
   "cell_type": "code",
   "execution_count": null,
   "id": "e064963e-8611-49ad-a9bd-718e84f69734",
   "metadata": {},
   "outputs": [],
   "source": [
    "fjfjsjf"
   ]
  },
  {
   "cell_type": "code",
   "execution_count": 4,
   "id": "05002920-e453-4620-ab72-67b1ad749c7a",
   "metadata": {},
   "outputs": [
    {
     "name": "stdout",
     "output_type": "stream",
     "text": [
      "Уважаемый Сергей Балакирев!\n",
      "Я так и не понял что такое функция\n",
      "Ваш, навсегда Иван Иванович! и не судите строго, мне всего 7 лет!\n"
     ]
    }
   ],
   "source": [
    "def send_mail(from_name, old):\n",
    "    text = f\"\"\"Уважаемый Сергей Балакирев!\n",
    "Я так и не понял что такое функция\n",
    "Ваш, навсегда {from_name}! и не судите строго, мне всего {old} лет!\"\"\"\n",
    "\n",
    "    print(text)\n",
    "\n",
    "send_mail(\"Иван Иванович\", \"7\")"
   ]
  },
  {
   "cell_type": "code",
   "execution_count": 7,
   "id": "2dc7bdb3-9d83-4672-8091-fb6513d3d52b",
   "metadata": {},
   "outputs": [
    {
     "name": "stdout",
     "output_type": "stream",
     "text": [
      "7.0\n"
     ]
    }
   ],
   "source": [
    "def get_sqrt(x):\n",
    "    res = None if x < 0 else x ** 0.5\n",
    "    return res\n",
    "\n",
    "a = get_sqrt(49)\n",
    "print(a)"
   ]
  },
  {
   "cell_type": "code",
   "execution_count": 1,
   "id": "f29064ad-ef33-49e5-a29b-2705491c73da",
   "metadata": {},
   "outputs": [
    {
     "name": "stdout",
     "output_type": "stream",
     "text": [
      "{'a': 1, 'b': 3, 'c': 4}\n"
     ]
    }
   ],
   "source": [
    "dict1 = {'a': 1, 'b': 2}\n",
    "dict2 = {'b': 3, 'c': 4}\n",
    "\n",
    "dict1.update(dict2)\n",
    "\n",
    "print(dict1)\n"
   ]
  },
  {
   "cell_type": "code",
   "execution_count": null,
   "id": "399886bb-421c-450b-8176-207cb58c6cf6",
   "metadata": {},
   "outputs": [],
   "source": []
  }
 ],
 "metadata": {
  "kernelspec": {
   "display_name": "Python 3 (ipykernel)",
   "language": "python",
   "name": "python3"
  },
  "language_info": {
   "codemirror_mode": {
    "name": "ipython",
    "version": 3
   },
   "file_extension": ".py",
   "mimetype": "text/x-python",
   "name": "python",
   "nbconvert_exporter": "python",
   "pygments_lexer": "ipython3",
   "version": "3.11.7"
  }
 },
 "nbformat": 4,
 "nbformat_minor": 5
}
